{
 "cells": [
  {
   "cell_type": "code",
   "execution_count": null,
   "id": "83afe9c0-443f-42fa-afc2-7462122da0b7",
   "metadata": {},
   "outputs": [],
   "source": [
    "from pyalex import Works"
   ]
  },
  {
   "cell_type": "code",
   "execution_count": null,
   "id": "9666e48c-885a-434d-b960-04e6669c05d9",
   "metadata": {},
   "outputs": [],
   "source": [
    "#w = Works().random()\n",
    "w = Works().filter(authorships={'institutions': {'ror': 'https://ror.org/008xxew50'}},\n",
    "                   publication_year=2018).get()"
   ]
  },
  {
   "cell_type": "markdown",
   "id": "d6fe71c4-407c-478d-98c1-1c218abae129",
   "metadata": {},
   "source": [
    "## Normalizer"
   ]
  },
  {
   "cell_type": "markdown",
   "id": "59a92c66-0880-48a3-819b-1a313aca789a",
   "metadata": {},
   "source": [
    "- normalizer stores field averages\n",
    "- when normalize_citations is applied to works, field averages are added iteratively\n",
    "- extends the results returned by pyalex, i.e. either single record or list of records\n",
    "- returns the record(s) with an added field: cited_by_count_normalized (if citations > 0)"
   ]
  },
  {
   "cell_type": "code",
   "execution_count": null,
   "id": "a1975d33-0ccf-4c86-941b-bd3d0a3af57f",
   "metadata": {},
   "outputs": [],
   "source": [
    "import os\n",
    "import sys\n",
    "parent_dir = os.path.abspath(os.path.join('..'))\n",
    "if parent_dir not in sys.path:\n",
    "    sys.path.append(parent_dir)\n",
    "\n",
    "from opencitnm import Normalizer"
   ]
  },
  {
   "cell_type": "code",
   "execution_count": null,
   "id": "57e2eac9-fad1-466e-8282-4a2aaab2d995",
   "metadata": {},
   "outputs": [],
   "source": [
    "n = Normalizer()"
   ]
  },
  {
   "cell_type": "code",
   "execution_count": null,
   "id": "c8adc401-9ccc-450e-931b-95425d38c29c",
   "metadata": {},
   "outputs": [],
   "source": [
    "from copy import deepcopy"
   ]
  },
  {
   "cell_type": "code",
   "execution_count": null,
   "id": "1416b307-b5a2-41e2-88bc-df401c078eda",
   "metadata": {},
   "outputs": [],
   "source": [
    "wh = n.normalize_citations(deepcopy(w))  # argument can also be a list of works (dicts)"
   ]
  },
  {
   "cell_type": "code",
   "execution_count": null,
   "id": "db9f6efa-93dc-483d-90db-7ae4df3c984b",
   "metadata": {},
   "outputs": [],
   "source": [
    "wa = n.normalize_citations(deepcopy(w), 'a')"
   ]
  },
  {
   "cell_type": "code",
   "execution_count": null,
   "id": "a5a4adc1-248f-4549-b113-339fb02573f9",
   "metadata": {},
   "outputs": [],
   "source": [
    "wg = n.normalize_citations(deepcopy(w), 'g')"
   ]
  },
  {
   "cell_type": "code",
   "execution_count": null,
   "id": "b63d1a86-1759-476e-847b-a056d5c8aa0a",
   "metadata": {},
   "outputs": [],
   "source": [
    "for w1,w2,w3 in zip(wh, wa, wg):\n",
    "    print('--------------------------------------')\n",
    "    print(w1.get('cited_by_count_normalized'), w2.get('cited_by_count_normalized'), w3.get('cited_by_count_normalized'))"
   ]
  },
  {
   "cell_type": "code",
   "execution_count": null,
   "id": "ca88709f-d4cf-4e89-96f2-2d6697ff558a",
   "metadata": {},
   "outputs": [],
   "source": [
    "for work in w:\n",
    "    fa = []\n",
    "    for c in work['concepts']:\n",
    "        if c['level']==1:\n",
    "            fa.append(n.field_averages[work['type'] + str(work['publication_year']) + c['id']])\n",
    "    print(work['cited_by_count']/n._calculate_harmonic_mean(fa))\n",
    "    print(work['cited_by_count']/n._calculate_arithmetic_mean(fa))\n",
    "    print(work['cited_by_count']/n._calculate_geometric_mean(fa))\n",
    "    break"
   ]
  },
  {
   "cell_type": "code",
   "execution_count": null,
   "id": "eac41a08-7e59-4db6-9d27-fcacc107a1cc",
   "metadata": {},
   "outputs": [],
   "source": []
  }
 ],
 "metadata": {
  "kernelspec": {
   "display_name": "Python 3 (ipykernel)",
   "language": "python",
   "name": "python3"
  },
  "language_info": {
   "codemirror_mode": {
    "name": "ipython",
    "version": 3
   },
   "file_extension": ".py",
   "mimetype": "text/x-python",
   "name": "python",
   "nbconvert_exporter": "python",
   "pygments_lexer": "ipython3",
   "version": "3.11.3"
  }
 },
 "nbformat": 4,
 "nbformat_minor": 5
}
