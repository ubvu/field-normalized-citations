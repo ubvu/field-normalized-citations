{
 "cells": [
  {
   "cell_type": "code",
   "execution_count": 1,
   "id": "83afe9c0-443f-42fa-afc2-7462122da0b7",
   "metadata": {},
   "outputs": [],
   "source": [
    "from pyalex import Works"
   ]
  },
  {
   "cell_type": "code",
   "execution_count": 2,
   "id": "9666e48c-885a-434d-b960-04e6669c05d9",
   "metadata": {},
   "outputs": [],
   "source": [
    "#w = Works().random()\n",
    "w = Works().filter(authorships={'institutions': {'ror': 'https://ror.org/008xxew50'}},\n",
    "                   publication_year=2018).get()"
   ]
  },
  {
   "cell_type": "markdown",
   "id": "d6fe71c4-407c-478d-98c1-1c218abae129",
   "metadata": {},
   "source": [
    "## Normalizer"
   ]
  },
  {
   "cell_type": "markdown",
   "id": "59a92c66-0880-48a3-819b-1a313aca789a",
   "metadata": {},
   "source": [
    "- normalizer stores field averages\n",
    "- when normalize_citations is applied to works, field averages are added iteratively\n",
    "- extends the results returned by pyalex, i.e. either single record or list of records\n",
    "- returns the record(s) with an added field: cited_by_count_normalized (if citations > 0)"
   ]
  },
  {
   "cell_type": "code",
   "execution_count": 3,
   "id": "a1975d33-0ccf-4c86-941b-bd3d0a3af57f",
   "metadata": {},
   "outputs": [],
   "source": [
    "import os\n",
    "import sys\n",
    "parent_dir = os.path.abspath(os.path.join('..'))\n",
    "if parent_dir not in sys.path:\n",
    "    sys.path.append(parent_dir)\n",
    "\n",
    "from opencitnm import Normalizer"
   ]
  },
  {
   "cell_type": "code",
   "execution_count": 4,
   "id": "57e2eac9-fad1-466e-8282-4a2aaab2d995",
   "metadata": {},
   "outputs": [],
   "source": [
    "n = Normalizer()"
   ]
  },
  {
   "cell_type": "code",
   "execution_count": 5,
   "id": "1416b307-b5a2-41e2-88bc-df401c078eda",
   "metadata": {},
   "outputs": [],
   "source": [
    "w = n.normalize_citations(w)  # argument can also be a list of works (dicts)"
   ]
  },
  {
   "cell_type": "code",
   "execution_count": 7,
   "id": "b63d1a86-1759-476e-847b-a056d5c8aa0a",
   "metadata": {},
   "outputs": [
    {
     "name": "stdout",
     "output_type": "stream",
     "text": [
      "--------------------------------------\n",
      "632.9120235519209\n",
      "--------------------------------------\n",
      "540.7518026132731\n",
      "--------------------------------------\n",
      "169.69006693115475\n",
      "--------------------------------------\n",
      "88.1248997916769\n",
      "--------------------------------------\n",
      "166.78149294229135\n",
      "--------------------------------------\n",
      "111.36264370313226\n",
      "--------------------------------------\n",
      "95.5320605825162\n",
      "--------------------------------------\n",
      "98.62695987958583\n",
      "--------------------------------------\n",
      "142.10837115113839\n",
      "--------------------------------------\n",
      "85.93915684459094\n",
      "--------------------------------------\n",
      "55.26528339025019\n",
      "--------------------------------------\n",
      "80.82600314791095\n",
      "--------------------------------------\n",
      "91.90033752188025\n",
      "--------------------------------------\n",
      "64.38743847503679\n",
      "--------------------------------------\n",
      "66.47204395550453\n",
      "--------------------------------------\n",
      "59.16776339915275\n",
      "--------------------------------------\n",
      "59.50072437163519\n",
      "--------------------------------------\n",
      "32.44104598730448\n",
      "--------------------------------------\n",
      "78.58743947440769\n",
      "--------------------------------------\n",
      "85.56864072648875\n",
      "--------------------------------------\n",
      "45.8963005026965\n",
      "--------------------------------------\n",
      "53.90416045124141\n",
      "--------------------------------------\n",
      "25.735338216002845\n",
      "--------------------------------------\n",
      "48.0422232992513\n",
      "--------------------------------------\n",
      "33.569398336829956\n"
     ]
    }
   ],
   "source": [
    "for work in w:\n",
    "    print('--------------------------------------')\n",
    "    #print(work.get('title'))\n",
    "    print(work.get('cited_by_count_normalized'))"
   ]
  },
  {
   "cell_type": "code",
   "execution_count": null,
   "id": "91d74a67-95d1-46c8-b28d-2d36c493a366",
   "metadata": {},
   "outputs": [],
   "source": []
  }
 ],
 "metadata": {
  "kernelspec": {
   "display_name": "Python 3 (ipykernel)",
   "language": "python",
   "name": "python3"
  },
  "language_info": {
   "codemirror_mode": {
    "name": "ipython",
    "version": 3
   },
   "file_extension": ".py",
   "mimetype": "text/x-python",
   "name": "python",
   "nbconvert_exporter": "python",
   "pygments_lexer": "ipython3",
   "version": "3.11.3"
  }
 },
 "nbformat": 4,
 "nbformat_minor": 5
}
